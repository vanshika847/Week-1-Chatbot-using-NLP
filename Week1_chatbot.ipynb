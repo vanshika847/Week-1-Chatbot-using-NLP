{
  "nbformat": 4,
  "nbformat_minor": 0,
  "metadata": {
    "colab": {
      "provenance": [],
      "authorship_tag": "ABX9TyORo/J04OE5ZJ5/GsAAqrO2",
      "include_colab_link": true
    },
    "kernelspec": {
      "name": "python3",
      "display_name": "Python 3"
    },
    "language_info": {
      "name": "python"
    }
  },
  "cells": [
    {
      "cell_type": "markdown",
      "metadata": {
        "id": "view-in-github",
        "colab_type": "text"
      },
      "source": [
        "<a href=\"https://colab.research.google.com/github/vanshika847/Week-1-Chatbot-using-NLP/blob/main/Week1_chatbot.ipynb\" target=\"_parent\"><img src=\"https://colab.research.google.com/assets/colab-badge.svg\" alt=\"Open In Colab\"/></a>"
      ]
    },
    {
      "cell_type": "code",
      "execution_count": 1,
      "metadata": {
        "colab": {
          "base_uri": "https://localhost:8080/"
        },
        "id": "CPW26YiGBvOg",
        "outputId": "ccefc0a1-ed6b-43db-b59b-3e2797592166"
      },
      "outputs": [
        {
          "output_type": "stream",
          "name": "stdout",
          "text": [
            "Requirement already satisfied: nltk in /usr/local/lib/python3.11/dist-packages (3.9.1)\n",
            "Requirement already satisfied: scikit-learn in /usr/local/lib/python3.11/dist-packages (1.6.1)\n",
            "Requirement already satisfied: click in /usr/local/lib/python3.11/dist-packages (from nltk) (8.1.8)\n",
            "Requirement already satisfied: joblib in /usr/local/lib/python3.11/dist-packages (from nltk) (1.4.2)\n",
            "Requirement already satisfied: regex>=2021.8.3 in /usr/local/lib/python3.11/dist-packages (from nltk) (2024.11.6)\n",
            "Requirement already satisfied: tqdm in /usr/local/lib/python3.11/dist-packages (from nltk) (4.67.1)\n",
            "Requirement already satisfied: numpy>=1.19.5 in /usr/local/lib/python3.11/dist-packages (from scikit-learn) (1.26.4)\n",
            "Requirement already satisfied: scipy>=1.6.0 in /usr/local/lib/python3.11/dist-packages (from scikit-learn) (1.13.1)\n",
            "Requirement already satisfied: threadpoolctl>=3.1.0 in /usr/local/lib/python3.11/dist-packages (from scikit-learn) (3.5.0)\n"
          ]
        }
      ],
      "source": [
        "!pip install nltk scikit-learn\n"
      ]
    },
    {
      "cell_type": "code",
      "source": [
        "import nltk\n",
        "import random\n",
        "import numpy as np\n",
        "from sklearn.feature_extraction.text import TfidfVectorizer\n",
        "from sklearn.linear_model import LogisticRegression\n",
        "from nltk.stem import WordNetLemmatizer\n",
        "\n",
        "# Download necessary NLTK datasets\n",
        "nltk.download('punkt')\n",
        "nltk.download('wordnet')\n"
      ],
      "metadata": {
        "colab": {
          "base_uri": "https://localhost:8080/"
        },
        "id": "qQIwOOrqDSeL",
        "outputId": "f462dfab-c319-48d7-940f-3bd2f54f2d2f"
      },
      "execution_count": 2,
      "outputs": [
        {
          "output_type": "stream",
          "name": "stderr",
          "text": [
            "[nltk_data] Downloading package punkt to /root/nltk_data...\n",
            "[nltk_data]   Unzipping tokenizers/punkt.zip.\n",
            "[nltk_data] Downloading package wordnet to /root/nltk_data...\n"
          ]
        },
        {
          "output_type": "execute_result",
          "data": {
            "text/plain": [
              "True"
            ]
          },
          "metadata": {},
          "execution_count": 2
        }
      ]
    },
    {
      "cell_type": "code",
      "source": [
        "# Initialize lemmatizer\n",
        "lemmatizer = WordNetLemmatizer()\n",
        "\n",
        "# Define chatbot intents\n",
        "intents = [\n",
        "    {\"tag\": \"greeting\", \"patterns\": [\"Hi\", \"Hello\", \"Hey\", \"How are you\", \"What's up\"],\n",
        "     \"responses\": [\"Hi there!\", \"Hello!\", \"Hey!\", \"I'm fine, thank you.\", \"Nothing much!\"]},\n",
        "\n",
        "    {\"tag\": \"goodbye\", \"patterns\": [\"Bye\", \"See you later\", \"Goodbye\", \"Take care\"],\n",
        "     \"responses\": [\"Goodbye!\", \"See you later!\", \"Take care!\"]},\n",
        "\n",
        "    {\"tag\": \"thanks\", \"patterns\": [\"Thank you\", \"Thanks\", \"Thanks a lot\", \"I appreciate it\"],\n",
        "     \"responses\": [\"You're welcome!\", \"No problem!\", \"Glad I could help!\"]},\n",
        "\n",
        "    {\"tag\": \"about\", \"patterns\": [\"What can you do\", \"Who are you\", \"What are you\", \"What is your purpose\"],\n",
        "     \"responses\": [\"I am a chatbot.\", \"My purpose is to assist you!\", \"I can answer questions and provide assistance.\"]},\n",
        "\n",
        "    {\"tag\": \"help\", \"patterns\": [\"Help\", \"I need help\", \"Can you help me\", \"What should I do\"],\n",
        "     \"responses\": [\"Sure, what do you need help with?\", \"I'm here to help! What's the problem?\", \"How can I assist you?\"]},\n",
        "\n",
        "    {\"tag\": \"developer\", \"patterns\": [\"Who is your developer\", \"Who created you\"],\n",
        "     \"responses\": [\"My developer is Suraj Sharma!\", \"Suraj Sharma created me.\"]},\n",
        "\n",
        "    {\"tag\": \"play_music\", \"patterns\": [\"Hey, can you play a song for me?\", \"Please play a song for me\"],\n",
        "     \"responses\": [\"Yes sure! Which song would you like to play?\", \"Yeah! Which song?\"]},\n",
        "\n",
        "    {\"tag\": \"unknown\", \"patterns\": [], \"responses\": [\"I'm not sure how to respond to that. Can you rephrase?\"]}\n",
        "]\n"
      ],
      "metadata": {
        "id": "59CrJ6LkDSht"
      },
      "execution_count": 3,
      "outputs": []
    }
  ]
}